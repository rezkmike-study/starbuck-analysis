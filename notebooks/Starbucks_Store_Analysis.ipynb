{
 "cells": [
  {
   "cell_type": "code",
   "execution_count": null,
   "id": "90668e79",
   "metadata": {},
   "outputs": [],
   "source": [
    "import pyspark\n",
    "from pyspark.sql import SparkSession\n",
    "from pyspark.sql.functions import *\n",
    "\n",
    "spark = SparkSession.builder \\\n",
    "    .appName('Starbucks Store Analysis') \\\n",
    "    .config('spark.mongodb.input.uri', 'mongodb://127.0.0.1/starbucks.stores') \\\n",
    "    .config('spark.mongodb.output.uri', 'mongodb://127.0.0.1/starbucks.stores') \\\n",
    "    .getOrCreate()"
   ]
  },
  {
   "cell_type": "code",
   "execution_count": null,
   "id": "19e27d4a",
   "metadata": {},
   "outputs": [],
   "source": [
    "df = spark.read.csv('/mnt/data/starbucks_data/Starbucks Store Locations.csv', header=True, inferSchema=True)\n",
    "df.show()"
   ]
  },
  {
   "cell_type": "code",
   "execution_count": null,
   "id": "b6ff3833",
   "metadata": {},
   "outputs": [],
   "source": [
    "# Display schema of the DataFrame\n",
    "df.printSchema()\n",
    "\n",
    "# Show summary statistics\n",
    "df.describe().show()\n",
    "\n",
    "# Count the number of stores by country\n",
    "df.groupBy('Country').count().show()"
   ]
  },
  {
   "cell_type": "code",
   "execution_count": null,
   "id": "ad529520",
   "metadata": {},
   "outputs": [],
   "source": [
    "# Write the DataFrame to MongoDB\n",
    "df.write.format('mongo').mode('overwrite').save()"
   ]
  }
 ],
 "metadata": {},
 "nbformat": 4,
 "nbformat_minor": 5
}
